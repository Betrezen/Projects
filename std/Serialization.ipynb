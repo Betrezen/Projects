{
 "metadata": {
  "name": ""
 },
 "nbformat": 3,
 "nbformat_minor": 0,
 "worksheets": [
  {
   "cells": [
    {
     "cell_type": "heading",
     "level": 1,
     "metadata": {},
     "source": [
      "JSON"
     ]
    },
    {
     "cell_type": "code",
     "collapsed": false,
     "input": [
      "import json\n",
      "json.dumps(['foo', {'bar': ('baz', None, 1.0, 2)}])"
     ],
     "language": "python",
     "metadata": {},
     "outputs": [
      {
       "metadata": {},
       "output_type": "pyout",
       "prompt_number": 3,
       "text": [
        "'[\"foo\", {\"bar\": [\"baz\", null, 1.0, 2]}]'"
       ]
      }
     ],
     "prompt_number": 3
    },
    {
     "cell_type": "code",
     "collapsed": false,
     "input": [
      "print json.dumps(['foo', {'bar': ('baz', None, 1.0, 2)}], sort_keys=True, indent=4)"
     ],
     "language": "python",
     "metadata": {},
     "outputs": [
      {
       "output_type": "stream",
       "stream": "stdout",
       "text": [
        "[\n",
        "    \"foo\", \n",
        "    {\n",
        "        \"bar\": [\n",
        "            \"baz\", \n",
        "            null, \n",
        "            1.0, \n",
        "            2\n",
        "        ]\n",
        "    }\n",
        "]\n"
       ]
      }
     ],
     "prompt_number": 6
    },
    {
     "cell_type": "code",
     "collapsed": false,
     "input": [
      "json.loads('[\"foo\", {\"bar\": [\"baz\", null, 1.0, 2]}]')"
     ],
     "language": "python",
     "metadata": {},
     "outputs": [
      {
       "metadata": {},
       "output_type": "pyout",
       "prompt_number": 7,
       "text": [
        "[u'foo', {u'bar': [u'baz', None, 1.0, 2]}]"
       ]
      }
     ],
     "prompt_number": 7
    },
    {
     "cell_type": "heading",
     "level": 1,
     "metadata": {},
     "source": [
      "Pickle"
     ]
    },
    {
     "cell_type": "code",
     "collapsed": false,
     "input": [
      "import cPickle\n",
      "\n",
      "\n",
      "class A(object):\n",
      "    \n",
      "    def __init__(self, arg):\n",
      "        self.a = arg\n",
      "\n",
      "    def __repr__(self):\n",
      "        return '<A(a={}) at 0x{:x}>'.format(self.a, id(self))\n",
      "\n",
      "    \n",
      "A(10)"
     ],
     "language": "python",
     "metadata": {},
     "outputs": [
      {
       "metadata": {},
       "output_type": "pyout",
       "prompt_number": 46,
       "text": [
        "<A(a=10) at 0x7f719c179e90>"
       ]
      }
     ],
     "prompt_number": 46
    },
    {
     "cell_type": "code",
     "collapsed": false,
     "input": [
      "print cPickle.dumps(A(10))  # text mode"
     ],
     "language": "python",
     "metadata": {},
     "outputs": [
      {
       "output_type": "stream",
       "stream": "stdout",
       "text": [
        "ccopy_reg\n",
        "_reconstructor\n",
        "p1\n",
        "(c__main__\n",
        "A\n",
        "p2\n",
        "c__builtin__\n",
        "object\n",
        "p3\n",
        "NtRp4\n",
        "(dp5\n",
        "S'a'\n",
        "I10\n",
        "sb.\n"
       ]
      }
     ],
     "prompt_number": 47
    },
    {
     "cell_type": "code",
     "collapsed": false,
     "input": [
      "len(cPickle.dumps(A(10)))"
     ],
     "language": "python",
     "metadata": {},
     "outputs": [
      {
       "metadata": {},
       "output_type": "pyout",
       "prompt_number": 48,
       "text": [
        "90"
       ]
      }
     ],
     "prompt_number": 48
    },
    {
     "cell_type": "code",
     "collapsed": false,
     "input": [
      "cPickle.dumps(a, protocol=cPickle.HIGHEST_PROTOCOL) # binary mode"
     ],
     "language": "python",
     "metadata": {},
     "outputs": [
      {
       "metadata": {},
       "output_type": "pyout",
       "prompt_number": 43,
       "text": [
        "'\\x80\\x02c__main__\\nA\\nq\\x01)\\x81q\\x02}q\\x03U\\x01aK\\nsb.'"
       ]
      }
     ],
     "prompt_number": 43
    },
    {
     "cell_type": "code",
     "collapsed": false,
     "input": [
      "len(cPickle.dumps(a, protocol=cPickle.HIGHEST_PROTOCOL))"
     ],
     "language": "python",
     "metadata": {},
     "outputs": [
      {
       "metadata": {},
       "output_type": "pyout",
       "prompt_number": 44,
       "text": [
        "31"
       ]
      }
     ],
     "prompt_number": 44
    },
    {
     "cell_type": "code",
     "collapsed": false,
     "input": [
      "cPickle.loads('\\x80\\x02c__main__\\nA\\nq\\x01)\\x81q\\x02}q\\x03U\\x01aK\\nsb.')"
     ],
     "language": "python",
     "metadata": {},
     "outputs": [
      {
       "metadata": {},
       "output_type": "pyout",
       "prompt_number": 36,
       "text": [
        "<A(a=10) at 0x7f719c179410>"
       ]
      }
     ],
     "prompt_number": 36
    },
    {
     "cell_type": "heading",
     "level": 1,
     "metadata": {},
     "source": [
      "PyYAML"
     ]
    },
    {
     "cell_type": "code",
     "collapsed": false,
     "input": [
      "import yaml"
     ],
     "language": "python",
     "metadata": {},
     "outputs": [],
     "prompt_number": 56
    },
    {
     "cell_type": "code",
     "collapsed": false,
     "input": [
      "print yaml.safe_dump({'foo': {'bar': [1, 2, 3], 'baz': {'monty': [{'key': 'value'}, {'key': 'value'}, {'key': 'value'}]}}})"
     ],
     "language": "python",
     "metadata": {},
     "outputs": [
      {
       "output_type": "stream",
       "stream": "stdout",
       "text": [
        "foo:\n",
        "  bar: [1, 2, 3]\n",
        "  baz:\n",
        "    monty:\n",
        "    - {key: value}\n",
        "    - {key: value}\n",
        "    - {key: value}\n",
        "\n"
       ]
      }
     ],
     "prompt_number": 55
    },
    {
     "cell_type": "code",
     "collapsed": false,
     "input": [
      "document = \"\"\"\n",
      "  a: 1\n",
      "  b:\n",
      "    c: 3\n",
      "    d: 4\n",
      "\"\"\"\n",
      "yaml.safe_load(document)"
     ],
     "language": "python",
     "metadata": {},
     "outputs": [
      {
       "metadata": {},
       "output_type": "pyout",
       "prompt_number": 61,
       "text": [
        "{'a': 1, 'b': {'c': 3, 'd': 4}}"
       ]
      }
     ],
     "prompt_number": 61
    }
   ],
   "metadata": {}
  }
 ]
}