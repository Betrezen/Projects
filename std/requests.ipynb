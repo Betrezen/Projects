{
 "metadata": {
  "name": ""
 },
 "nbformat": 3,
 "nbformat_minor": 0,
 "worksheets": [
  {
   "cells": [
    {
     "cell_type": "code",
     "collapsed": false,
     "input": [
      "import requests"
     ],
     "language": "python",
     "metadata": {},
     "outputs": [],
     "prompt_number": 1
    },
    {
     "cell_type": "code",
     "collapsed": false,
     "input": [
      "r = requests.get('http://www.example.com/')\n",
      "r"
     ],
     "language": "python",
     "metadata": {},
     "outputs": [
      {
       "metadata": {},
       "output_type": "pyout",
       "prompt_number": 22,
       "text": [
        "<Response [200]>"
       ]
      }
     ],
     "prompt_number": 22
    },
    {
     "cell_type": "code",
     "collapsed": false,
     "input": [
      "dict(r.headers)"
     ],
     "language": "python",
     "metadata": {},
     "outputs": [
      {
       "metadata": {},
       "output_type": "pyout",
       "prompt_number": 23,
       "text": [
        "{'accept-ranges': 'bytes',\n",
        " 'cache-control': 'max-age=604800',\n",
        " 'content-length': '1270',\n",
        " 'content-type': 'text/html',\n",
        " 'date': 'Tue, 01 Jul 2014 10:04:55 GMT',\n",
        " 'etag': '\"359670651\"',\n",
        " 'expires': 'Tue, 08 Jul 2014 10:04:55 GMT',\n",
        " 'last-modified': 'Fri, 09 Aug 2013 23:54:35 GMT',\n",
        " 'server': 'ECS (ewr/1584)',\n",
        " 'x-cache': 'HIT',\n",
        " 'x-ec-custom-error': '1'}"
       ]
      }
     ],
     "prompt_number": 23
    },
    {
     "cell_type": "code",
     "collapsed": false,
     "input": [
      "r.content"
     ],
     "language": "python",
     "metadata": {},
     "outputs": [
      {
       "metadata": {},
       "output_type": "pyout",
       "prompt_number": 24,
       "text": [
        "'<!doctype html>\\n<html>\\n<head>\\n    <title>Example Domain</title>\\n\\n    <meta charset=\"utf-8\" />\\n    <meta http-equiv=\"Content-type\" content=\"text/html; charset=utf-8\" />\\n    <meta name=\"viewport\" content=\"width=device-width, initial-scale=1\" />\\n    <style type=\"text/css\">\\n    body {\\n        background-color: #f0f0f2;\\n        margin: 0;\\n        padding: 0;\\n        font-family: \"Open Sans\", \"Helvetica Neue\", Helvetica, Arial, sans-serif;\\n        \\n    }\\n    div {\\n        width: 600px;\\n        margin: 5em auto;\\n        padding: 50px;\\n        background-color: #fff;\\n        border-radius: 1em;\\n    }\\n    a:link, a:visited {\\n        color: #38488f;\\n        text-decoration: none;\\n    }\\n    @media (max-width: 700px) {\\n        body {\\n            background-color: #fff;\\n        }\\n        div {\\n            width: auto;\\n            margin: 0 auto;\\n            border-radius: 0;\\n            padding: 1em;\\n        }\\n    }\\n    </style>    \\n</head>\\n\\n<body>\\n<div>\\n    <h1>Example Domain</h1>\\n    <p>This domain is established to be used for illustrative examples in documents. You may use this\\n    domain in examples without prior coordination or asking for permission.</p>\\n    <p><a href=\"http://www.iana.org/domains/example\">More information...</a></p>\\n</div>\\n</body>\\n</html>\\n'"
       ]
      }
     ],
     "prompt_number": 24
    },
    {
     "cell_type": "heading",
     "level": 4,
     "metadata": {},
     "source": [
      "POST"
     ]
    },
    {
     "cell_type": "code",
     "collapsed": false,
     "input": [
      "r = requests.post(\"http://httpbin.org/post\")\n",
      "r"
     ],
     "language": "python",
     "metadata": {},
     "outputs": [
      {
       "metadata": {},
       "output_type": "pyout",
       "prompt_number": 18,
       "text": [
        "<Response [200]>"
       ]
      }
     ],
     "prompt_number": 18
    },
    {
     "cell_type": "code",
     "collapsed": false,
     "input": [
      "r.json()"
     ],
     "language": "python",
     "metadata": {},
     "outputs": [
      {
       "metadata": {},
       "output_type": "pyout",
       "prompt_number": 20,
       "text": [
        "{u'args': {},\n",
        " u'data': u'',\n",
        " u'files': {},\n",
        " u'form': {},\n",
        " u'headers': {u'Accept': u'*/*',\n",
        "  u'Accept-Encoding': u'gzip, deflate, compress',\n",
        "  u'Connection': u'close',\n",
        "  u'Content-Length': u'0',\n",
        "  u'Host': u'httpbin.org',\n",
        "  u'User-Agent': u'python-requests/2.2.1 CPython/2.7.6 Linux/3.13.0-30-generic',\n",
        "  u'X-Request-Id': u'8ec81137-d216-4918-8941-7d8af36b0a4a'},\n",
        " u'json': None,\n",
        " u'origin': u'95.37.102.181',\n",
        " u'url': u'http://httpbin.org/post'}"
       ]
      }
     ],
     "prompt_number": 20
    },
    {
     "cell_type": "code",
     "collapsed": false,
     "input": [
      "payload = {'key1': 'value1', 'key2': 'value2'}\n",
      "r = requests.post(\"http://httpbin.org/post\", data=payload)  # urlencoded data\n",
      "r.json()"
     ],
     "language": "python",
     "metadata": {},
     "outputs": [
      {
       "metadata": {},
       "output_type": "pyout",
       "prompt_number": 26,
       "text": [
        "{u'args': {},\n",
        " u'data': u'',\n",
        " u'files': {},\n",
        " u'form': {u'key1': u'value1', u'key2': u'value2'},\n",
        " u'headers': {u'Accept': u'*/*',\n",
        "  u'Accept-Encoding': u'gzip, deflate, compress',\n",
        "  u'Connection': u'close',\n",
        "  u'Content-Length': u'23',\n",
        "  u'Content-Type': u'application/x-www-form-urlencoded',\n",
        "  u'Host': u'httpbin.org',\n",
        "  u'User-Agent': u'python-requests/2.2.1 CPython/2.7.6 Linux/3.13.0-30-generic',\n",
        "  u'X-Request-Id': u'173bf9e6-3c48-487a-9a62-bdcafa33ea23'},\n",
        " u'json': None,\n",
        " u'origin': u'95.37.102.181',\n",
        " u'url': u'http://httpbin.org/post'}"
       ]
      }
     ],
     "prompt_number": 26
    },
    {
     "cell_type": "code",
     "collapsed": false,
     "input": [
      "import json"
     ],
     "language": "python",
     "metadata": {},
     "outputs": [],
     "prompt_number": 28
    },
    {
     "cell_type": "code",
     "collapsed": false,
     "input": [
      "payload = {'some': 'data'}\n",
      "r = requests.post('http://httpbin.org/post?key=value', data=json.dumps(payload))\n",
      "r.json()"
     ],
     "language": "python",
     "metadata": {},
     "outputs": [
      {
       "metadata": {},
       "output_type": "pyout",
       "prompt_number": 33,
       "text": [
        "{u'args': {u'key': u'value'},\n",
        " u'data': u'{\"some\": \"data\"}',\n",
        " u'files': {},\n",
        " u'form': {},\n",
        " u'headers': {u'Accept': u'*/*',\n",
        "  u'Accept-Encoding': u'gzip, deflate, compress',\n",
        "  u'Connection': u'close',\n",
        "  u'Content-Length': u'16',\n",
        "  u'Host': u'httpbin.org',\n",
        "  u'User-Agent': u'python-requests/2.2.1 CPython/2.7.6 Linux/3.13.0-30-generic',\n",
        "  u'X-Request-Id': u'307281dc-d192-4dda-ae6a-bfd9a731bf01'},\n",
        " u'json': {u'some': u'data'},\n",
        " u'origin': u'95.37.102.181',\n",
        " u'url': u'http://httpbin.org/post?key=value'}"
       ]
      }
     ],
     "prompt_number": 33
    },
    {
     "cell_type": "code",
     "collapsed": false,
     "input": [],
     "language": "python",
     "metadata": {},
     "outputs": []
    }
   ],
   "metadata": {}
  }
 ]
}