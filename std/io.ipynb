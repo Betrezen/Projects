{
 "metadata": {
  "name": ""
 },
 "nbformat": 3,
 "nbformat_minor": 0,
 "worksheets": [
  {
   "cells": [
    {
     "cell_type": "code",
     "collapsed": false,
     "input": [
      "import os"
     ],
     "language": "python",
     "metadata": {},
     "outputs": []
    },
    {
     "cell_type": "code",
     "collapsed": false,
     "input": [
      "fname = './my_file.txt'"
     ],
     "language": "python",
     "metadata": {
      "slideshow": {
       "slide_type": "-"
      }
     },
     "outputs": []
    },
    {
     "cell_type": "code",
     "collapsed": false,
     "input": [
      "# check if file exists\n",
      "if os.path.isfile(fname):\n",
      "    print 'removing', fname\n",
      "    os.remove(fname)"
     ],
     "language": "python",
     "metadata": {},
     "outputs": []
    },
    {
     "cell_type": "code",
     "collapsed": false,
     "input": [
      "# open a file\n",
      "f = open(fname, 'w')  # Bad style: use 'with' statement\n",
      "\n",
      "# write to file\n",
      "f.write('monty')\n",
      "\n",
      "# close file\n",
      "f.close()"
     ],
     "language": "python",
     "metadata": {},
     "outputs": []
    },
    {
     "cell_type": "code",
     "collapsed": false,
     "input": [
      "with open(fname, 'a') as f:  # Good style: f.close() always called at the end of block 'wtih'\n",
      "    f.write('-python')"
     ],
     "language": "python",
     "metadata": {},
     "outputs": []
    },
    {
     "cell_type": "code",
     "collapsed": false,
     "input": [
      "# read file content\n",
      "with open(fname, 'r') as f:\n",
      "    content = f.read()  # read all file content\n",
      "    \n",
      "print 'content of', fname, ':', content"
     ],
     "language": "python",
     "metadata": {},
     "outputs": []
    },
    {
     "cell_type": "code",
     "collapsed": false,
     "input": [
      "d = '.'\n",
      "if os.path.isdir(d):\n",
      "    print d, 'is a dir'"
     ],
     "language": "python",
     "metadata": {},
     "outputs": [
      {
       "output_type": "stream",
       "stream": "stdout",
       "text": [
        ". is a dir\n"
       ]
      }
     ],
     "prompt_number": 5
    },
    {
     "cell_type": "code",
     "collapsed": false,
     "input": [
      "# \u251c\u2500\u2500 data\n",
      "# \u2502\u00a0\u00a0 \u2514\u2500\u2500 dir1\n",
      "# \u2502\u00a0\u00a0     \u251c\u2500\u2500 2.txt\n",
      "# \u2502\u00a0\u00a0     \u251c\u2500\u2500 subdir1\n",
      "# \u2502\u00a0\u00a0     \u2502\u00a0\u00a0 \u2514\u2500 1.txt\n",
      "# \u2502\u00a0\u00a0     \u2514\u2500\u2500 subdir2\n",
      "# \u2502\u00a0\u00a0         \u2514\u2500 3.txt\n",
      "\n",
      "os.listdir('data/dir1')\n",
      "    "
     ],
     "language": "python",
     "metadata": {},
     "outputs": [
      {
       "metadata": {},
       "output_type": "pyout",
       "prompt_number": 9,
       "text": [
        "['subdir2', 'subdir1', '2.txt']"
       ]
      }
     ],
     "prompt_number": 9
    },
    {
     "cell_type": "code",
     "collapsed": false,
     "input": [
      "for root, dirs, files in os.walk('data'):\n",
      "    print 'root =', root\n",
      "    print 'dirs =', dirs\n",
      "    print 'files =', files\n",
      "    print ''\n",
      "    \n",
      "    if '2.txt' in files:\n",
      "        print '2.txt found in', root\n",
      "        print ''"
     ],
     "language": "python",
     "metadata": {},
     "outputs": [
      {
       "output_type": "stream",
       "stream": "stdout",
       "text": [
        "root = data\n",
        "dirs = ['dir1']\n",
        "files = []\n",
        "\n",
        "root = data/dir1\n",
        "dirs = ['subdir2', 'subdir1']\n",
        "files = ['2.txt']\n",
        "\n",
        "2.txt found in data/dir1\n",
        "\n",
        "root = data/dir1/subdir2\n",
        "dirs = []\n",
        "files = ['3.txt']\n",
        "\n",
        "root = data/dir1/subdir1\n",
        "dirs = []\n",
        "files = ['1.txt']\n",
        "\n"
       ]
      }
     ],
     "prompt_number": 23
    },
    {
     "cell_type": "code",
     "collapsed": false,
     "input": [
      "os.path.join('data', 'dir1', '2.txt')"
     ],
     "language": "python",
     "metadata": {},
     "outputs": [
      {
       "metadata": {},
       "output_type": "pyout",
       "prompt_number": 52,
       "text": [
        "'data/dir1/2.txt'"
       ]
      }
     ],
     "prompt_number": 52
    },
    {
     "cell_type": "code",
     "collapsed": false,
     "input": [
      "os.path.join('/var', 'log/dir', 'log.txt')"
     ],
     "language": "python",
     "metadata": {},
     "outputs": [
      {
       "metadata": {},
       "output_type": "pyout",
       "prompt_number": 56,
       "text": [
        "'/var/log/dir/log.txt'"
       ]
      }
     ],
     "prompt_number": 56
    },
    {
     "cell_type": "code",
     "collapsed": false,
     "input": [
      "import shutil"
     ],
     "language": "python",
     "metadata": {},
     "outputs": [],
     "prompt_number": 26
    },
    {
     "cell_type": "code",
     "collapsed": false,
     "input": [
      "# check if file exists\n",
      "fname = 'data/dir1/4.txt'\n",
      "if os.path.isfile(fname):\n",
      "    print 'removing', fname\n",
      "    os.remove(fname)"
     ],
     "language": "python",
     "metadata": {},
     "outputs": [
      {
       "output_type": "stream",
       "stream": "stdout",
       "text": [
        "removing data/dir1/4.txt\n"
       ]
      }
     ],
     "prompt_number": 34
    },
    {
     "cell_type": "code",
     "collapsed": false,
     "input": [
      "shutil.copyfile('data/dir1/2.txt', 'data/dir1/4.txt')\n",
      "os.path.exists('data/dir1/4.txt')"
     ],
     "language": "python",
     "metadata": {},
     "outputs": [
      {
       "metadata": {},
       "output_type": "pyout",
       "prompt_number": 49,
       "text": [
        "True"
       ]
      }
     ],
     "prompt_number": 49
    },
    {
     "cell_type": "code",
     "collapsed": false,
     "input": [
      "shutil.move('data/dir1/4.txt', 'data/dir1/5.txt')\n",
      "print os.path.exists('data/dir1/4.txt'), os.path.exists('data/dir1/5.txt')"
     ],
     "language": "python",
     "metadata": {},
     "outputs": [
      {
       "output_type": "stream",
       "stream": "stdout",
       "text": [
        "False True\n"
       ]
      }
     ],
     "prompt_number": 50
    },
    {
     "cell_type": "code",
     "collapsed": false,
     "input": [
      "shutil.make_archive('data/my', root_dir='data', base_dir='dir1', format='gztar')"
     ],
     "language": "python",
     "metadata": {},
     "outputs": [
      {
       "metadata": {},
       "output_type": "pyout",
       "prompt_number": 64,
       "text": [
        "'/home/tohin/code/python_training/data/my.tar.gz'"
       ]
      }
     ],
     "prompt_number": 64
    },
    {
     "cell_type": "code",
     "collapsed": false,
     "input": [],
     "language": "python",
     "metadata": {},
     "outputs": []
    }
   ],
   "metadata": {}
  }
 ]
}