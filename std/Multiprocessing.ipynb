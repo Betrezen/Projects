{
 "metadata": {
  "name": ""
 },
 "nbformat": 3,
 "nbformat_minor": 0,
 "worksheets": [
  {
   "cells": [
    {
     "cell_type": "code",
     "collapsed": false,
     "input": [
      "def count(n):\n",
      "    while n > 0:\n",
      "        n -= 1\n",
      "\n",
      "c = 40000000"
     ],
     "language": "python",
     "metadata": {},
     "outputs": []
    },
    {
     "cell_type": "code",
     "collapsed": false,
     "input": [
      "import time"
     ],
     "language": "python",
     "metadata": {},
     "outputs": []
    },
    {
     "cell_type": "code",
     "collapsed": false,
     "input": [
      "start = time.time()\n",
      "count(c)\n",
      "count(c)\n",
      "print '{0:03.2f} sec'.format(time.time() - start)"
     ],
     "language": "python",
     "metadata": {},
     "outputs": []
    },
    {
     "cell_type": "code",
     "collapsed": false,
     "input": [
      "from threading import Thread\n",
      "\n",
      "start = time.time()\n",
      "\n",
      "t1 = Thread(target=count,args=(c,))\n",
      "t1.start()\n",
      "t2 = Thread(target=count,args=(c,))\n",
      "t2.start()\n",
      "t1.join()\n",
      "t2.join()\n",
      "\n",
      "print '{0:03.2f} sec'.format(time.time() - start)"
     ],
     "language": "python",
     "metadata": {},
     "outputs": []
    },
    {
     "cell_type": "code",
     "collapsed": false,
     "input": [
      "import gevent\n",
      "\n",
      "start = time.time()\n",
      "\n",
      "gevent.joinall([\n",
      "    gevent.spawn(count, c),\n",
      "    gevent.spawn(count, c),\n",
      "])\n",
      "\n",
      "print '{0:03.2f} sec'.format(time.time() - start)"
     ],
     "language": "python",
     "metadata": {},
     "outputs": []
    },
    {
     "cell_type": "code",
     "collapsed": false,
     "input": [
      "import multiprocessing\n",
      "\n",
      "start = time.time()\n",
      "\n",
      "p1 = multiprocessing.Process(target=count, args=(c,))\n",
      "p2 = multiprocessing.Process(target=count, args=(c,))\n",
      "p1.start()\n",
      "p2.start()\n",
      "\n",
      "p1.join()\n",
      "p2.join()\n",
      "\n",
      "print '{0:03.2f} sec'.format(time.time() - start)"
     ],
     "language": "python",
     "metadata": {},
     "outputs": []
    },
    {
     "cell_type": "code",
     "collapsed": false,
     "input": [],
     "language": "python",
     "metadata": {},
     "outputs": []
    }
   ],
   "metadata": {}
  }
 ]
}