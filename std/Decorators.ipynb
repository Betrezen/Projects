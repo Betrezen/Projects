{
 "metadata": {
  "name": ""
 },
 "nbformat": 3,
 "nbformat_minor": 0,
 "worksheets": [
  {
   "cells": [
    {
     "cell_type": "heading",
     "level": 1,
     "metadata": {},
     "source": [
      "Decorators"
     ]
    },
    {
     "cell_type": "code",
     "collapsed": false,
     "input": [
      "def outer(some_func):\n",
      "\n",
      "    def inner(*args, **kwargs):\n",
      "        print 'before some_func'\n",
      "        ret = some_func(*args, **kwargs)  # call the function\n",
      "        print 'asterf some_func'\n",
      "        return ret\n",
      "    \n",
      "    return inner"
     ],
     "language": "python",
     "metadata": {},
     "outputs": []
    },
    {
     "cell_type": "code",
     "collapsed": false,
     "input": [
      "def myfn():\n",
      "    print 'myfn'\n",
      "\n",
      "myfn()"
     ],
     "language": "python",
     "metadata": {},
     "outputs": []
    },
    {
     "cell_type": "code",
     "collapsed": false,
     "input": [
      "def myfn():\n",
      "    print 'myfn'\n",
      "\n",
      "myfn = outer(myfn)\n",
      "\n",
      "myfn()"
     ],
     "language": "python",
     "metadata": {},
     "outputs": []
    },
    {
     "cell_type": "code",
     "collapsed": false,
     "input": [
      "@outer\n",
      "def myfn():\n",
      "    print 'myfn'\n",
      "\n",
      "myfn()"
     ],
     "language": "python",
     "metadata": {},
     "outputs": []
    },
    {
     "cell_type": "heading",
     "level": 1,
     "metadata": {},
     "source": [
      "Real example"
     ]
    },
    {
     "cell_type": "code",
     "collapsed": false,
     "input": [
      "import os\n",
      "\n",
      "\n",
      "def check_file_exists(fn):\n",
      "    def decorator(fname):\n",
      "        if os.path.isfile(fname):\n",
      "            return fn(fname)\n",
      "        else:\n",
      "            return None\n",
      "    return decorator\n",
      "\n",
      "\n",
      "@check_file_exists\n",
      "def get_file_content(fname):\n",
      "    with open(fname) as f:\n",
      "        return f.read()\n",
      "\n",
      "\n",
      "@check_file_exists\n",
      "def get_file_size(fname):\n",
      "    with open(fname) as f:\n",
      "        return len(f.read())"
     ],
     "language": "python",
     "metadata": {},
     "outputs": []
    },
    {
     "cell_type": "code",
     "collapsed": false,
     "input": [
      "print get_file_size('wrong_path')"
     ],
     "language": "python",
     "metadata": {},
     "outputs": []
    },
    {
     "cell_type": "code",
     "collapsed": false,
     "input": [
      "get_file_size('my_file.txt')"
     ],
     "language": "python",
     "metadata": {},
     "outputs": []
    },
    {
     "cell_type": "heading",
     "level": 1,
     "metadata": {},
     "source": [
      "Decorator parameters"
     ]
    },
    {
     "cell_type": "code",
     "collapsed": false,
     "input": [
      "def decorator_with_parameter(my_param=None):\n",
      "    \n",
      "    def decorator(some_func):\n",
      "        \n",
      "        def inner(*args, **kwargs):\n",
      "            print 'before some_func'\n",
      "            print 'my_param =', my_param\n",
      "            ret = some_func(*args, **kwargs)  # call the function\n",
      "            print 'asterf some_func'\n",
      "            return ret\n",
      "        \n",
      "        return inner\n",
      "    \n",
      "    return decorator\n",
      "\n",
      "\n",
      "@decorator_with_parameter('X')\n",
      "def myfn():\n",
      "    print 'myfn'\n",
      "\n",
      "    \n",
      "myfn()"
     ],
     "language": "python",
     "metadata": {},
     "outputs": []
    },
    {
     "cell_type": "code",
     "collapsed": false,
     "input": [
      "class decorator_with_parameter(object):\n",
      "    \n",
      "    def __init__(self, my_param):\n",
      "        self.my_param = my_param\n",
      "        \n",
      "    def __call__(self, some_func):\n",
      "\n",
      "        def inner(*args, **kwargs):\n",
      "            print 'before some_func'\n",
      "            print 'my_param =', self.my_param\n",
      "            ret = some_func(*args, **kwargs)  # call the function\n",
      "            print 'asterf some_func'\n",
      "            return ret\n",
      "            \n",
      "        return inner\n",
      "\n",
      "    \n",
      "@decorator_with_parameter('X')\n",
      "def myfn():\n",
      "    print 'myfn'\n",
      "\n",
      "    \n",
      "myfn()"
     ],
     "language": "python",
     "metadata": {},
     "outputs": []
    }
   ],
   "metadata": {}
  }
 ]
}