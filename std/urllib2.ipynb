{
 "metadata": {
  "name": ""
 },
 "nbformat": 3,
 "nbformat_minor": 0,
 "worksheets": [
  {
   "cells": [
    {
     "cell_type": "code",
     "collapsed": false,
     "input": [
      "import urllib2\n",
      "response = urllib2.urlopen('http://www.example.com/')\n",
      "response.code"
     ],
     "language": "python",
     "metadata": {},
     "outputs": [
      {
       "metadata": {},
       "output_type": "pyout",
       "prompt_number": 63,
       "text": [
        "200"
       ]
      }
     ],
     "prompt_number": 63
    },
    {
     "cell_type": "code",
     "collapsed": false,
     "input": [
      "response.msg"
     ],
     "language": "python",
     "metadata": {},
     "outputs": [
      {
       "metadata": {},
       "output_type": "pyout",
       "prompt_number": 64,
       "text": [
        "'OK'"
       ]
      }
     ],
     "prompt_number": 64
    },
    {
     "cell_type": "code",
     "collapsed": false,
     "input": [
      "response.readlines()"
     ],
     "language": "python",
     "metadata": {},
     "outputs": [
      {
       "metadata": {},
       "output_type": "pyout",
       "prompt_number": 65,
       "text": [
        "['<!doctype html>\\n',\n",
        " '<html>\\n',\n",
        " '<head>\\n',\n",
        " '    <title>Example Domain</title>\\n',\n",
        " '\\n',\n",
        " '    <meta charset=\"utf-8\" />\\n',\n",
        " '    <meta http-equiv=\"Content-type\" content=\"text/html; charset=utf-8\" />\\n',\n",
        " '    <meta name=\"viewport\" content=\"width=device-width, initial-scale=1\" />\\n',\n",
        " '    <style type=\"text/css\">\\n',\n",
        " '    body {\\n',\n",
        " '        background-color: #f0f0f2;\\n',\n",
        " '        margin: 0;\\n',\n",
        " '        padding: 0;\\n',\n",
        " '        font-family: \"Open Sans\", \"Helvetica Neue\", Helvetica, Arial, sans-serif;\\n',\n",
        " '        \\n',\n",
        " '    }\\n',\n",
        " '    div {\\n',\n",
        " '        width: 600px;\\n',\n",
        " '        margin: 5em auto;\\n',\n",
        " '        padding: 50px;\\n',\n",
        " '        background-color: #fff;\\n',\n",
        " '        border-radius: 1em;\\n',\n",
        " '    }\\n',\n",
        " '    a:link, a:visited {\\n',\n",
        " '        color: #38488f;\\n',\n",
        " '        text-decoration: none;\\n',\n",
        " '    }\\n',\n",
        " '    @media (max-width: 700px) {\\n',\n",
        " '        body {\\n',\n",
        " '            background-color: #fff;\\n',\n",
        " '        }\\n',\n",
        " '        div {\\n',\n",
        " '            width: auto;\\n',\n",
        " '            margin: 0 auto;\\n',\n",
        " '            border-radius: 0;\\n',\n",
        " '            padding: 1em;\\n',\n",
        " '        }\\n',\n",
        " '    }\\n',\n",
        " '    </style>    \\n',\n",
        " '</head>\\n',\n",
        " '\\n',\n",
        " '<body>\\n',\n",
        " '<div>\\n',\n",
        " '    <h1>Example Domain</h1>\\n',\n",
        " '    <p>This domain is established to be used for illustrative examples in documents. You may use this\\n',\n",
        " '    domain in examples without prior coordination or asking for permission.</p>\\n',\n",
        " '    <p><a href=\"http://www.iana.org/domains/example\">More information...</a></p>\\n',\n",
        " '</div>\\n',\n",
        " '</body>\\n',\n",
        " '</html>\\n']"
       ]
      }
     ],
     "prompt_number": 65
    },
    {
     "cell_type": "code",
     "collapsed": false,
     "input": [
      "response.read()  # for raw data"
     ],
     "language": "python",
     "metadata": {},
     "outputs": [
      {
       "metadata": {},
       "output_type": "pyout",
       "prompt_number": 66,
       "text": [
        "''"
       ]
      }
     ],
     "prompt_number": 66
    },
    {
     "cell_type": "code",
     "collapsed": false,
     "input": [
      "headers = response.info()"
     ],
     "language": "python",
     "metadata": {},
     "outputs": [],
     "prompt_number": 67
    },
    {
     "cell_type": "code",
     "collapsed": false,
     "input": [
      "dict(headers)"
     ],
     "language": "python",
     "metadata": {},
     "outputs": [
      {
       "metadata": {},
       "output_type": "pyout",
       "prompt_number": 68,
       "text": [
        "{'accept-ranges': 'bytes',\n",
        " 'cache-control': 'max-age=604800',\n",
        " 'connection': 'close',\n",
        " 'content-length': '1270',\n",
        " 'content-type': 'text/html',\n",
        " 'date': 'Tue, 01 Jul 2014 09:50:49 GMT',\n",
        " 'etag': '\"359670651\"',\n",
        " 'expires': 'Tue, 08 Jul 2014 09:50:49 GMT',\n",
        " 'last-modified': 'Fri, 09 Aug 2013 23:54:35 GMT',\n",
        " 'server': 'ECS (ewr/1584)',\n",
        " 'x-cache': 'HIT',\n",
        " 'x-ec-custom-error': '1'}"
       ]
      }
     ],
     "prompt_number": 68
    },
    {
     "cell_type": "code",
     "collapsed": false,
     "input": [
      "import urllib"
     ],
     "language": "python",
     "metadata": {},
     "outputs": []
    },
    {
     "cell_type": "code",
     "collapsed": false,
     "input": [
      "query_args = {'q': 'query string', 'foo': 'bar', 'unicode': '\u0425\u0435\u043b\u043b\u043e \u0412\u043e\u0440\u043b\u0434'}\n",
      "encoded_args = urllib.urlencode(query_args)\n",
      "print encoded_args"
     ],
     "language": "python",
     "metadata": {},
     "outputs": [
      {
       "output_type": "stream",
       "stream": "stdout",
       "text": [
        "q=query+string&foo=bar&unicode=%D0%A5%D0%B5%D0%BB%D0%BB%D0%BE+%D0%92%D0%BE%D1%80%D0%BB%D0%B4\n"
       ]
      }
     ],
     "prompt_number": 69
    },
    {
     "cell_type": "heading",
     "level": 3,
     "metadata": {},
     "source": [
      "Http POST"
     ]
    },
    {
     "cell_type": "code",
     "collapsed": false,
     "input": [
      "request = urllib2.Request('https://www.googleapis.com/urlshortener/v1/url')\n",
      "request.add_header('Content-Type', 'application/json')  # set request header\n",
      "request.add_data('{\"longUrl\": \"http://www.google.com/\"}')  # set request body\n",
      "\n",
      "response = urllib2.urlopen(request)  # POST\n",
      "response.code"
     ],
     "language": "python",
     "metadata": {},
     "outputs": [
      {
       "metadata": {},
       "output_type": "pyout",
       "prompt_number": 70,
       "text": [
        "200"
       ]
      }
     ],
     "prompt_number": 70
    },
    {
     "cell_type": "code",
     "collapsed": false,
     "input": [
      "resp_data = response.read()\n",
      "resp_data"
     ],
     "language": "python",
     "metadata": {},
     "outputs": [
      {
       "metadata": {},
       "output_type": "pyout",
       "prompt_number": 71,
       "text": [
        "'{\\n \"kind\": \"urlshortener#url\",\\n \"id\": \"http://goo.gl/fbsS\",\\n \"longUrl\": \"http://www.google.com/\"\\n}\\n'"
       ]
      }
     ],
     "prompt_number": 71
    },
    {
     "cell_type": "code",
     "collapsed": false,
     "input": [
      "import json\n",
      "data_dict = json.loads(resp_data)\n",
      "data_dict"
     ],
     "language": "python",
     "metadata": {},
     "outputs": [
      {
       "metadata": {},
       "output_type": "pyout",
       "prompt_number": 72,
       "text": [
        "{u'id': u'http://goo.gl/fbsS',\n",
        " u'kind': u'urlshortener#url',\n",
        " u'longUrl': u'http://www.google.com/'}"
       ]
      }
     ],
     "prompt_number": 72
    },
    {
     "cell_type": "code",
     "collapsed": false,
     "input": [
      "data_dict['id']"
     ],
     "language": "python",
     "metadata": {},
     "outputs": [
      {
       "metadata": {},
       "output_type": "pyout",
       "prompt_number": 73,
       "text": [
        "u'http://goo.gl/fbsS'"
       ]
      }
     ],
     "prompt_number": 73
    },
    {
     "cell_type": "code",
     "collapsed": false,
     "input": [],
     "language": "python",
     "metadata": {},
     "outputs": []
    }
   ],
   "metadata": {}
  }
 ]
}