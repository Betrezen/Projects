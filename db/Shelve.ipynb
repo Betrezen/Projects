{
 "metadata": {
  "name": ""
 },
 "nbformat": 3,
 "nbformat_minor": 0,
 "worksheets": [
  {
   "cells": [
    {
     "cell_type": "code",
     "collapsed": false,
     "input": [
      "import shelve"
     ],
     "language": "python",
     "metadata": {},
     "outputs": [],
     "prompt_number": 1
    },
    {
     "cell_type": "code",
     "collapsed": false,
     "input": [
      "s = shelve.open('data/test_shelf.db')\n",
      "s['key1'] = {'int': 10, 'float': 9.5, 'string': 'Sample data'}\n",
      "s.close()"
     ],
     "language": "python",
     "metadata": {},
     "outputs": [],
     "prompt_number": 14
    },
    {
     "cell_type": "code",
     "collapsed": false,
     "input": [
      "s = shelve.open('data/test_shelf.db')\n",
      "print s['key1']\n",
      "s.close()"
     ],
     "language": "python",
     "metadata": {},
     "outputs": [
      {
       "output_type": "stream",
       "stream": "stdout",
       "text": [
        "{'int': 10, 'float': 9.5, 'string': 'Sample data'}\n"
       ]
      }
     ],
     "prompt_number": 16
    },
    {
     "cell_type": "code",
     "collapsed": false,
     "input": [
      "s = shelve.open('data/test_shelf.db')\n",
      "s['key1']['new'] = 'value'\n",
      "s.close()\n",
      "\n",
      "s = shelve.open('data/test_shelf.db')\n",
      "print s['key1']\n",
      "s.close()"
     ],
     "language": "python",
     "metadata": {},
     "outputs": [
      {
       "output_type": "stream",
       "stream": "stdout",
       "text": [
        "{'int': 10, 'float': 9.5, 'string': 'Sample data'}\n"
       ]
      }
     ],
     "prompt_number": 17
    },
    {
     "cell_type": "code",
     "collapsed": false,
     "input": [
      "s = shelve.open('data/test_shelf.db', writeback=True)\n",
      "s['key1']['new'] = 'value'\n",
      "s.close()\n",
      "\n",
      "s = shelve.open('data/test_shelf.db')\n",
      "print s['key1']\n",
      "s.close()"
     ],
     "language": "python",
     "metadata": {},
     "outputs": [
      {
       "output_type": "stream",
       "stream": "stdout",
       "text": [
        "{'int': 10, 'new': 'value', 'float': 9.5, 'string': 'Sample data'}\n"
       ]
      }
     ],
     "prompt_number": 18
    }
   ],
   "metadata": {}
  }
 ]
}