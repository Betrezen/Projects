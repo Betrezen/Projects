{
 "metadata": {
  "name": ""
 },
 "nbformat": 3,
 "nbformat_minor": 0,
 "worksheets": [
  {
   "cells": [
    {
     "cell_type": "heading",
     "level": 3,
     "metadata": {},
     "source": [
      "Connect to db"
     ]
    },
    {
     "cell_type": "code",
     "collapsed": false,
     "input": [
      "import sqlite3\n",
      "conn = sqlite3.connect('sqlite.db')\n",
      "print \"Opened database successfully\";"
     ],
     "language": "python",
     "metadata": {},
     "outputs": []
    },
    {
     "cell_type": "heading",
     "level": 3,
     "metadata": {},
     "source": [
      "Craete table"
     ]
    },
    {
     "cell_type": "code",
     "collapsed": false,
     "input": [
      "conn.execute('''CREATE TABLE COMPANY\n",
      "                (ID INT PRIMARY KEY     NOT NULL,\n",
      "                 NAME           TEXT    NOT NULL,\n",
      "                 AGE            INT     NOT NULL,\n",
      "                 ADDRESS        CHAR(50),\n",
      "                 SALARY         REAL);''')\n",
      "print \"Table created successfully\";"
     ],
     "language": "python",
     "metadata": {},
     "outputs": []
    },
    {
     "cell_type": "heading",
     "level": 3,
     "metadata": {},
     "source": [
      "Insert data"
     ]
    },
    {
     "cell_type": "code",
     "collapsed": false,
     "input": [
      "conn.execute(\"INSERT INTO COMPANY (ID,NAME,AGE,ADDRESS,SALARY) \\\n",
      "              VALUES (1, 'Paul', 32, 'California', 20000.00 )\");\n",
      "\n",
      "conn.execute(\"INSERT INTO COMPANY (ID,NAME,AGE,ADDRESS,SALARY) \\\n",
      "              VALUES (2, 'Allen', 25, 'Texas', 15000.00 )\");\n",
      "\n",
      "conn.execute(\"INSERT INTO COMPANY (ID,NAME,AGE,ADDRESS,SALARY) \\\n",
      "              VALUES (3, 'Teddy', 23, 'Norway', 20000.00 )\");\n",
      "\n",
      "conn.execute(\"INSERT INTO COMPANY (ID,NAME,AGE,ADDRESS,SALARY) \\\n",
      "              VALUES (4, 'Mark', 25, 'Rich-Mond ', 65000.00 )\");\n",
      "conn.commit()"
     ],
     "language": "python",
     "metadata": {},
     "outputs": []
    },
    {
     "cell_type": "heading",
     "level": 3,
     "metadata": {},
     "source": [
      "Fetch data"
     ]
    },
    {
     "cell_type": "code",
     "collapsed": false,
     "input": [
      "cursor = conn.execute(\"SELECT id, name, address, salary from COMPANY WHERE id = 1\")\n",
      "for row in cursor:\n",
      "   print row"
     ],
     "language": "python",
     "metadata": {},
     "outputs": []
    },
    {
     "cell_type": "heading",
     "level": 3,
     "metadata": {},
     "source": [
      "Update record"
     ]
    },
    {
     "cell_type": "code",
     "collapsed": false,
     "input": [
      "conn.execute(\"UPDATE COMPANY set SALARY = 25000.00 where ID=1\")\n",
      "conn.commit()\n",
      "\n",
      "cursor = conn.execute(\"SELECT id, name, address, salary from COMPANY where ID=1\")\n",
      "cursor.fetchone()"
     ],
     "language": "python",
     "metadata": {},
     "outputs": []
    },
    {
     "cell_type": "heading",
     "level": 3,
     "metadata": {},
     "source": [
      "Delete record"
     ]
    },
    {
     "cell_type": "code",
     "collapsed": false,
     "input": [
      "conn.execute(\"DELETE from COMPANY where ID=2;\")\n",
      "conn.commit()"
     ],
     "language": "python",
     "metadata": {},
     "outputs": []
    }
   ],
   "metadata": {}
  }
 ]
}