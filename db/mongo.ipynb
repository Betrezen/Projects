{
 "metadata": {
  "name": ""
 },
 "nbformat": 3,
 "nbformat_minor": 0,
 "worksheets": [
  {
   "cells": [
    {
     "cell_type": "heading",
     "level": 3,
     "metadata": {},
     "source": [
      "Connect to localhost mongodb"
     ]
    },
    {
     "cell_type": "code",
     "collapsed": false,
     "input": [
      "import mongoengine as me\n",
      "me.connect('test')"
     ],
     "language": "python",
     "metadata": {},
     "outputs": []
    },
    {
     "cell_type": "heading",
     "level": 3,
     "metadata": {},
     "source": [
      "Declare a Document"
     ]
    },
    {
     "cell_type": "code",
     "collapsed": false,
     "input": [
      "class User(me.Document):\n",
      "    email = me.StringField(required=True)\n",
      "    first_name = me.StringField(max_length=50)\n",
      "    last_name = me.StringField(max_length=50)\n",
      "    \n",
      "    def __repr__(self):\n",
      "       return \"<User(first_name='%s', last_name='%s', email='%s')>\" % (self.first_name, self.last_name, self.email)\n"
     ],
     "language": "python",
     "metadata": {},
     "outputs": []
    },
    {
     "cell_type": "heading",
     "level": 3,
     "metadata": {},
     "source": [
      "Create a record"
     ]
    },
    {
     "cell_type": "code",
     "collapsed": false,
     "input": [
      "ross = User(email='ross@example.com', first_name='Ross', last_name='Lawley')\n",
      "ross.save()\n",
      "\n",
      "User.objects.count()"
     ],
     "language": "python",
     "metadata": {},
     "outputs": []
    },
    {
     "cell_type": "heading",
     "level": 3,
     "metadata": {},
     "source": [
      "Query"
     ]
    },
    {
     "cell_type": "code",
     "collapsed": false,
     "input": [
      "for i in range(5):\n",
      "    User(email='test@example.com', first_name='User'+str(i), last_name='Test').save()"
     ],
     "language": "python",
     "metadata": {},
     "outputs": []
    },
    {
     "cell_type": "code",
     "collapsed": false,
     "input": [
      "User.objects.get(first_name='User3')"
     ],
     "language": "python",
     "metadata": {},
     "outputs": []
    },
    {
     "cell_type": "code",
     "collapsed": false,
     "input": [
      "User.objects(first_name__startswith='User')"
     ],
     "language": "python",
     "metadata": {},
     "outputs": []
    },
    {
     "cell_type": "heading",
     "level": 3,
     "metadata": {},
     "source": [
      "Delete a record"
     ]
    },
    {
     "cell_type": "code",
     "collapsed": false,
     "input": [
      "User.objects(first_name__startswith='User').delete()\n",
      "User.objects.count()"
     ],
     "language": "python",
     "metadata": {},
     "outputs": []
    }
   ],
   "metadata": {}
  }
 ]
}